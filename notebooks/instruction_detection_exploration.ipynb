{
 "cells": [
  {
   "cell_type": "markdown",
   "metadata": {},
   "source": [
    "# Instruction Detection using TabNet\n",
    "\n",
    "This notebook demonstrates how to train and evaluate a TabNet model for instruction detection."
   ]
  },
  {
   "cell_type": "code",
   "execution_count": null,
   "metadata": {},
   "outputs": [],
   "source": [
    "import sys\n",
    "sys.path.append('..')\n",
    "\n",
    "import numpy as np\n",
    "import pandas as pd\n",
    "import matplotlib.pyplot as plt\n",
    "import seaborn as sns\n",
    "from sklearn.model_selection import train_test_split\n",
    "from sklearn.metrics import accuracy_score, classification_report, confusion_matrix\n",
    "from pytorch_tabnet.tab_model import TabNetClassifier\n",
    "import torch\n",
    "\n",
    "# Set style\n",
    "sns.set_style('whitegrid')\n",
    "plt.rcParams['figure.figsize'] = (12, 6)"
   ]
  },
  {
   "cell_type": "markdown",
   "metadata": {},
   "source": [
    "## 1. Load and Explore Data"
   ]
  },
  {
   "cell_type": "code",
   "execution_count": null,
   "metadata": {},
   "outputs": [],
   "source": [
    "# Load data\n",
    "data = pd.read_csv('../data/raw/instructions.csv')\n",
    "print(f\"Dataset shape: {data.shape}\")\n",
    "data.head(10)"
   ]
  },
  {
   "cell_type": "code",
   "execution_count": null,
   "metadata": {},
   "outputs": [],
   "source": [
    "# Check class distribution\n",
    "print(\"Class distribution:\")\n",
    "print(data['label'].value_counts())\n",
    "\n",
    "# Visualize class distribution\n",
    "plt.figure(figsize=(12, 6))\n",
    "data['label'].value_counts().plot(kind='bar')\n",
    "plt.title('Distribution of Instruction Classes')\n",
    "plt.xlabel('Class')\n",
    "plt.ylabel('Count')\n",
    "plt.xticks(rotation=45, ha='right')\n",
    "plt.tight_layout()\n",
    "plt.show()"
   ]
  },
  {
   "cell_type": "markdown",
   "metadata": {},
   "source": [
    "## 2. Feature Engineering"
   ]
  },
  {
   "cell_type": "code",
   "execution_count": null,
   "metadata": {},
   "outputs": [],
   "source": [
    "def preprocess_text(texts):\n",
    "    \"\"\"Simple text preprocessing\"\"\"\n",
    "    return [str(text).lower() for text in texts]\n",
    "\n",
    "def get_char_frequencies(texts):\n",
    "    \"\"\"Extract character frequency features\"\"\"\n",
    "    chars = 'abcdefghijklmnopqrstuvwxyz0123456789 ,.!?'\n",
    "    char_to_idx = {c: i for i, c in enumerate(chars)}\n",
    "    \n",
    "    features = np.zeros((len(texts), len(chars)))\n",
    "    \n",
    "    for i, text in enumerate(texts):\n",
    "        for c in str(text).lower():\n",
    "            if c in char_to_idx:\n",
    "                features[i, char_to_idx[c]] += 1\n",
    "        \n",
    "        if len(text) > 0:\n",
    "            features[i] /= len(text)\n",
    "            \n",
    "    return features\n",
    "\n",
    "# Preprocess and extract features\n",
    "X = data['text'].values\n",
    "y = data['label'].values\n",
    "\n",
    "X_processed = preprocess_text(X)\n",
    "X_features = get_char_frequencies(X_processed)\n",
    "\n",
    "print(f\"Feature shape: {X_features.shape}\")\n",
    "print(f\"Number of samples: {len(X)}\")\n",
    "print(f\"Number of features: {X_features.shape[1]}\")"
   ]
  },
  {
   "cell_type": "markdown",
   "metadata": {},
   "source": [
    "## 3. Train-Test Split"
   ]
  },
  {
   "cell_type": "code",
   "execution_count": null,
   "metadata": {},
   "outputs": [],
   "source": [
    "# Split data\n",
    "X_train, X_test, y_train, y_test = train_test_split(\n",
    "    X_features, y, test_size=0.2, random_state=42, stratify=y\n",
    ")\n",
    "\n",
    "print(f\"Training samples: {len(X_train)}\")\n",
    "print(f\"Test samples: {len(X_test)}\")"
   ]
  },
  {
   "cell_type": "markdown",
   "metadata": {},
   "source": [
    "## 4. Train TabNet Model"
   ]
  },
  {
   "cell_type": "code",
   "execution_count": null,
   "metadata": {},
   "outputs": [],
   "source": [
    "# Set random seed\n",
    "np.random.seed(42)\n",
    "torch.manual_seed(42)\n",
    "\n",
    "# Initialize TabNet\n",
    "tabnet_params = {\n",
    "    'n_d': 8,\n",
    "    'n_a': 8,\n",
    "    'n_steps': 3,\n",
    "    'gamma': 1.3,\n",
    "    'lambda_sparse': 1e-3,\n",
    "    'optimizer_fn': torch.optim.Adam,\n",
    "    'optimizer_params': {'lr': 2e-2},\n",
    "    'scheduler_params': {'step_size': 10, 'gamma': 0.9},\n",
    "    'scheduler_fn': torch.optim.lr_scheduler.StepLR,\n",
    "    'mask_type': 'entmax',\n",
    "    'device_name': 'cuda' if torch.cuda.is_available() else 'cpu'\n",
    "}\n",
    "\n",
    "clf = TabNetClassifier(**tabnet_params)\n",
    "\n",
    "# Train\n",
    "batch_size = min(64, len(X_train))\n",
    "clf.fit(\n",
    "    X_train, y_train,\n",
    "    eval_set=[(X_test, y_test)],\n",
    "    eval_name=['valid'],\n",
    "    eval_metric=['accuracy'],\n",
    "    max_epochs=50,\n",
    "    patience=10,\n",
    "    batch_size=batch_size,\n",
    "    virtual_batch_size=min(32, batch_size),\n",
    "    num_workers=0,\n",
    "    drop_last=False\n",
    ")"
   ]
  },
  {
   "cell_type": "markdown",
   "metadata": {},
   "source": [
    "## 5. Evaluate Model"
   ]
  },
  {
   "cell_type": "code",
   "execution_count": null,
   "metadata": {},
   "outputs": [],
   "source": [
    "# Make predictions\n",
    "y_pred = clf.predict(X_test)\n",
    "\n",
    "# Calculate accuracy\n",
    "accuracy = accuracy_score(y_test, y_pred)\n",
    "print(f\"Test Accuracy: {accuracy:.4f}\")\n",
    "\n",
    "# Classification report\n",
    "print(\"\\nClassification Report:\")\n",
    "print(classification_report(y_test, y_pred, zero_division=0))"
   ]
  },
  {
   "cell_type": "code",
   "execution_count": null,
   "metadata": {},
   "outputs": [],
   "source": [
    "# Confusion matrix\n",
    "cm = confusion_matrix(y_test, y_pred)\n",
    "labels = np.unique(np.concatenate([y_test, y_pred]))\n",
    "\n",
    "plt.figure(figsize=(10, 8))\n",
    "sns.heatmap(cm, annot=True, fmt='d', cmap='Blues', \n",
    "            xticklabels=labels, yticklabels=labels)\n",
    "plt.title('Confusion Matrix')\n",
    "plt.ylabel('True Label')\n",
    "plt.xlabel('Predicted Label')\n",
    "plt.xticks(rotation=45, ha='right')\n",
    "plt.yticks(rotation=0)\n",
    "plt.tight_layout()\n",
    "plt.show()"
   ]
  },
  {
   "cell_type": "markdown",
   "metadata": {},
   "source": [
    "## 6. Test with Custom Instructions"
   ]
  },
  {
   "cell_type": "code",
   "execution_count": null,
   "metadata": {},
   "outputs": [],
   "source": [
    "# Test with custom instructions\n",
    "custom_instructions = [\n",
    "    \"Turn on the bedroom lights\",\n",
    "    \"What's the forecast for tomorrow?\",\n",
    "    \"Set a timer for 20 minutes\",\n",
    "    \"Play my favorite song\",\n",
    "    \"What time is the meeting?\"\n",
    "]\n",
    "\n",
    "# Preprocess and predict\n",
    "custom_processed = preprocess_text(custom_instructions)\n",
    "custom_features = get_char_frequencies(custom_processed)\n",
    "custom_predictions = clf.predict(custom_features)\n",
    "\n",
    "# Display results\n",
    "print(\"Custom Instruction Predictions:\")\n",
    "print(\"=\"*60)\n",
    "for instr, pred in zip(custom_instructions, custom_predictions):\n",
    "    print(f\"Instruction: {instr}\")\n",
    "    print(f\"Predicted class: {pred}\\n\")"
   ]
  }
 ],
 "metadata": {
  "kernelspec": {
   "display_name": "Python 3",
   "language": "python",
   "name": "python3"
  },
  "language_info": {
   "codemirror_mode": {
    "name": "ipython",
    "version": 3
   },
   "file_extension": ".py",
   "mimetype": "text/x-python",
   "name": "python",
   "nbconvert_exporter": "python",
   "pygments_lexer": "ipython3",
   "version": "3.8.0"
  }
 },
 "nbformat": 4,
 "nbformat_minor": 4
}
